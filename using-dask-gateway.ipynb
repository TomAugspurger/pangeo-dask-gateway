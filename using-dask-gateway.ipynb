{
 "cells": [
  {
   "cell_type": "markdown",
   "metadata": {},
   "source": [
    "# Using Dask Gateway\n",
    "\n",
    "This cluster has been configured to use [Dask-Gateway](https://gateway.dask.org/). This notebook demonstrates how to use it.\n",
    "\n",
    "## Creating a Cluster\n",
    "\n",
    "We've done most of the configuration for you. All that remains for you is to either create a new cluster or connect to an existing one. You'll do this with a `dask_gateway.Gateway` object.\n",
    "\n",
    "If the default settings are appropriate, you can create a new cluster without specifying any additional information."
   ]
  },
  {
   "cell_type": "code",
   "execution_count": 1,
   "metadata": {},
   "outputs": [],
   "source": [
    "from dask_gateway import Gateway\n",
    "gateway = Gateway()"
   ]
  },
  {
   "cell_type": "code",
   "execution_count": 2,
   "metadata": {},
   "outputs": [
    {
     "data": {
      "text/plain": [
       "[]"
      ]
     },
     "execution_count": 2,
     "metadata": {},
     "output_type": "execute_result"
    }
   ],
   "source": [
    "gateway.list_clusters()"
   ]
  },
  {
   "cell_type": "code",
   "execution_count": 4,
   "metadata": {},
   "outputs": [
    {
     "data": {
      "application/vnd.jupyter.widget-view+json": {
       "model_id": "62ec8e120f0b4fab913499fb1aa5632b",
       "version_major": 2,
       "version_minor": 0
      },
      "text/plain": [
       "VBox(children=(HTML(value='<h2>GatewayCluster</h2>'), HBox(children=(HTML(value='\\n<div>\\n<style scoped>\\n    …"
      ]
     },
     "metadata": {},
     "output_type": "display_data"
    }
   ],
   "source": [
    "cluster = gateway.new_cluster()\n",
    "cluster"
   ]
  },
  {
   "cell_type": "markdown",
   "metadata": {},
   "source": [
    "`gateway.new_cluster()` created a new Dask cluster.\n",
    "You can pass this cluster to a `dask.distributed.Client` to create a client\n",
    "so that any computations using Dask will be executed on the cluster."
   ]
  },
  {
   "cell_type": "code",
   "execution_count": 5,
   "metadata": {},
   "outputs": [
    {
     "data": {
      "text/html": [
       "<table style=\"border: 2px solid white;\">\n",
       "<tr>\n",
       "<td style=\"vertical-align: top; border: 0px solid white\">\n",
       "<h3 style=\"text-align: left;\">Client</h3>\n",
       "<ul style=\"text-align: left; list-style: none; margin: 0; padding: 0;\">\n",
       "  <li><b>Scheduler: </b>gateway://scheduler-public-dev-prod-dask-gateway:8786/b6e27a4eeb74470bb740f707f629f15b</li>\n",
       "  <li><b>Dashboard: </b><a href='https://hub.pangeo.io/services/dask-gateway/gateway/clusters/b6e27a4eeb74470bb740f707f629f15b/status' target='_blank'>https://hub.pangeo.io/services/dask-gateway/gateway/clusters/b6e27a4eeb74470bb740f707f629f15b/status</a>\n",
       "</ul>\n",
       "</td>\n",
       "<td style=\"vertical-align: top; border: 0px solid white\">\n",
       "<h3 style=\"text-align: left;\">Cluster</h3>\n",
       "<ul style=\"text-align: left; list-style:none; margin: 0; padding: 0;\">\n",
       "  <li><b>Workers: </b>0</li>\n",
       "  <li><b>Cores: </b>0</li>\n",
       "  <li><b>Memory: </b>0 B</li>\n",
       "</ul>\n",
       "</td>\n",
       "</tr>\n",
       "</table>"
      ],
      "text/plain": [
       "<Client: 'tls://10.32.34.106:34167' processes=0 threads=0, memory=0 B>"
      ]
     },
     "execution_count": 5,
     "metadata": {},
     "output_type": "execute_result"
    }
   ],
   "source": [
    "from distributed import Client\n",
    "\n",
    "client = Client(cluster)\n",
    "client"
   ]
  },
  {
   "cell_type": "code",
   "execution_count": 9,
   "metadata": {},
   "outputs": [],
   "source": [
    "import dask.array as da\n",
    "\n",
    "arr = da.random.random((1000, 1000), chunks=100).persist()"
   ]
  },
  {
   "cell_type": "markdown",
   "metadata": {},
   "source": [
    "By default, the cluster doesn't have any workers. You'll need to either set your cluster to adaptive mode or scale manually.\n",
    "\n",
    "In adaptive mode, the cluster will automatically resize itself based on the workload."
   ]
  },
  {
   "cell_type": "code",
   "execution_count": 10,
   "metadata": {},
   "outputs": [],
   "source": [
    "cluster.adapt()"
   ]
  },
  {
   "cell_type": "code",
   "execution_count": 11,
   "metadata": {},
   "outputs": [
    {
     "data": {
      "text/plain": [
       "array([[0.32648987, 0.94304574, 0.60109591, ..., 0.4754234 , 0.51921505,\n",
       "        0.50322152],\n",
       "       [0.41447147, 0.53073857, 0.07778848, ..., 0.79051681, 0.25704898,\n",
       "        0.5573166 ],\n",
       "       [0.12524794, 0.48594165, 0.2305868 , ..., 0.96619814, 0.17872878,\n",
       "        0.13046179],\n",
       "       ...,\n",
       "       [0.97258084, 0.13736629, 0.20938757, ..., 0.2601917 , 0.1276606 ,\n",
       "        0.91900657],\n",
       "       [0.92047548, 0.19178722, 0.86989839, ..., 0.3586717 , 0.39191175,\n",
       "        0.07321737],\n",
       "       [0.16046721, 0.3757023 , 0.169577  , ..., 0.1446228 , 0.46621836,\n",
       "        0.8630376 ]])"
      ]
     },
     "execution_count": 11,
     "metadata": {},
     "output_type": "execute_result"
    }
   ],
   "source": [
    "arr.compute()"
   ]
  },
  {
   "cell_type": "markdown",
   "metadata": {},
   "source": [
    "The `arr.compute` call may take more or less time, depending on the state of the Kubernetes cluster. If the cluster has been idle recently, we may be starting up additional machines in the background to do your work.\n",
    "\n",
    "Subsequent computations, now that those machines are around, will be much faster."
   ]
  },
  {
   "cell_type": "code",
   "execution_count": 12,
   "metadata": {},
   "outputs": [],
   "source": [
    "client.close()\n",
    "cluster.close()"
   ]
  },
  {
   "cell_type": "markdown",
   "metadata": {},
   "source": [
    "## Specifying options\n",
    "\n",
    "We've configured things like the the number of cores per worker to be appropriate for the most common use cases. For additional control over the cluster, use the `gateway.cluster_options`."
   ]
  },
  {
   "cell_type": "code",
   "execution_count": 13,
   "metadata": {},
   "outputs": [
    {
     "data": {
      "application/vnd.jupyter.widget-view+json": {
       "model_id": "6c103b4d83bc4fdc9db4d94bbd14065b",
       "version_major": 2,
       "version_minor": 0
      },
      "text/plain": [
       "Box(children=(Box(children=(HTML(value='<h2>Cluster Options</h2>'), Box(children=(HTML(value=\"<p style='font-w…"
      ]
     },
     "metadata": {},
     "output_type": "display_data"
    }
   ],
   "source": [
    "options = gateway.cluster_options()\n",
    "options"
   ]
  },
  {
   "cell_type": "markdown",
   "metadata": {},
   "source": [
    "You can either manually adjust these options in widget, or set it programatically."
   ]
  },
  {
   "cell_type": "code",
   "execution_count": 14,
   "metadata": {},
   "outputs": [],
   "source": [
    "options.worker_cores = 4"
   ]
  },
  {
   "cell_type": "markdown",
   "metadata": {},
   "source": [
    "The \"Image\" is a URL to a Docker image with the environment that will be loaded on the Dask scheduler and workers. This determines the versions of libraries that are available). By default, this matches the image you're currently working in."
   ]
  },
  {
   "cell_type": "code",
   "execution_count": null,
   "metadata": {},
   "outputs": [],
   "source": [
    "cluster = gateway.new_cluster(cluster_options=options)\n",
    "cluster.scale(1)\n",
    "client.wait_for_workers(1)\n",
    "cluster"
   ]
  },
  {
   "cell_type": "markdown",
   "metadata": {},
   "source": [
    "Notice that this cluster has 4 cores per worker, as we requested in the `options`."
   ]
  }
 ],
 "metadata": {
  "kernelspec": {
   "display_name": "Python 3",
   "language": "python",
   "name": "python3"
  },
  "language_info": {
   "codemirror_mode": {
    "name": "ipython",
    "version": 3
   },
   "file_extension": ".py",
   "mimetype": "text/x-python",
   "name": "python",
   "nbconvert_exporter": "python",
   "pygments_lexer": "ipython3",
   "version": "3.7.6"
  }
 },
 "nbformat": 4,
 "nbformat_minor": 4
}
